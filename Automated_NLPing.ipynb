{
  "nbformat": 4,
  "nbformat_minor": 0,
  "metadata": {
    "colab": {
      "name": "Automated NLPing.ipynb",
      "provenance": [],
      "collapsed_sections": [],
      "authorship_tag": "ABX9TyNZGqFPqt1LMHqjD0My9Mmx",
      "include_colab_link": true
    },
    "kernelspec": {
      "name": "python3",
      "display_name": "Python 3"
    },
    "language_info": {
      "name": "python"
    },
    "accelerator": "GPU",
    "gpuClass": "standard"
  },
  "cells": [
    {
      "cell_type": "markdown",
      "metadata": {
        "id": "view-in-github",
        "colab_type": "text"
      },
      "source": [
        "<a href=\"https://colab.research.google.com/github/EthanBerlant/Jedha_Final_Project/blob/main/Automated_NLPing.ipynb\" target=\"_parent\"><img src=\"https://colab.research.google.com/assets/colab-badge.svg\" alt=\"Open In Colab\"/></a>"
      ]
    },
    {
      "cell_type": "code",
      "execution_count": 34,
      "metadata": {
        "id": "iOWtf6ft0WC9",
        "colab": {
          "base_uri": "https://localhost:8080/"
        },
        "outputId": "8b6ea29f-6c22-4430-b357-1df2f34738d5"
      },
      "outputs": [
        {
          "output_type": "stream",
          "name": "stdout",
          "text": [
            "fatal: destination path 'Jedha_Final_Project' already exists and is not an empty directory.\n"
          ]
        }
      ],
      "source": [
        "import numpy as np\n",
        "import pandas as pd\n",
        "import os\n",
        "from functools import reduce\n",
        "from datetime import datetime\n",
        "from dateutil.parser import parse\n",
        "import fnmatch\n",
        "\n",
        "import tensorflow as tf\n",
        "import tensorflow_hub as hub\n",
        "from tensorflow import keras\n",
        "\n",
        "from keras.models import Sequential\n",
        "from keras.layers import Dense\n",
        "from keras.losses import MeanAbsolutePercentageError\n",
        "from keras.callbacks import EarlyStopping\n",
        "\n",
        "from sklearn.model_selection import train_test_split\n",
        "\n",
        "!git clone 'https://github.com/EthanBerlant/Jedha_Final_Project.git'"
      ]
    },
    {
      "cell_type": "code",
      "source": [
        "output_dim = 128"
      ],
      "metadata": {
        "id": "8jZAfuQrxcX7"
      },
      "execution_count": 2,
      "outputs": []
    },
    {
      "cell_type": "code",
      "source": [
        "# \"Token based text embedding trained on English Google News 200B corpus.\"\n",
        "embed = hub.load(\"https://tfhub.dev/google/tf2-preview/nnlm-en-dim128-with-normalization/1\")\n",
        "def EMBED(output_dim): \n",
        "  return hub.KerasLayer(\"https://tfhub.dev/google/tf2-preview/nnlm-en-dim128-with-normalization/1\", output_shape=[output_dim], input_shape=[], dtype=tf.string)"
      ],
      "metadata": {
        "id": "A3-Zc8EQu9Bp"
      },
      "execution_count": 3,
      "outputs": []
    },
    {
      "cell_type": "code",
      "source": [
        "def cleaning(tweet):\n",
        "  new_tweet = []\n",
        "  for word in tweet.split():\n",
        "    if word not in fnmatch.filter(tweet.split(), 'http*') and '@' not in word and '#' not in word:\n",
        "      new_tweet.append(word)\n",
        "  return ' '.join(new_tweet)"
      ],
      "metadata": {
        "id": "NxM8PRsOepH3"
      },
      "execution_count": 60,
      "outputs": []
    },
    {
      "cell_type": "code",
      "source": [
        "def ModelBuilder(layer_dimensions=[128,64,32], activation='relu'):\n",
        "  model = Sequential()\n",
        "  for dim in layer_dimensions:\n",
        "    model.add(keras.layers.Dense(dim, activation=activation))\n",
        "  model.add(keras.layers.Dense(3, activation='linear'))\n",
        "  model.compile(loss='MeanAbsolutePercentageError', \n",
        "                optimizer='adam', \n",
        "                metrics=['MeanAbsoluteError'])\n",
        "  return model"
      ],
      "metadata": {
        "id": "AO0AOz6gpUyk"
      },
      "execution_count": 63,
      "outputs": []
    },
    {
      "cell_type": "code",
      "source": [
        "def targetize(key, target):\n",
        "  annoying = pd.DataFrame(embed(joining_dict[key][key]).numpy())\n",
        "  annoying['date'] = joining_dict[key]['date']\n",
        "  return pd.merge(annoying.groupby(by='date').mean(), target, on='date')"
      ],
      "metadata": {
        "id": "f5WZbqKB4Sx-"
      },
      "execution_count": 123,
      "outputs": []
    },
    {
      "cell_type": "code",
      "source": [
        "target = pd.read_feather('Jedha_Final_Project/Data/cleaned_dataset.ftr')\n",
        "SPX = [col for col in target.columns if 'SPX' in col]\n",
        "SPX.insert(0,'date')\n",
        "target = target[SPX].copy()\n",
        "target['date'] = target['date'].apply(datetime.date)\n",
        "\n",
        "target['SPX_close'] = target['SPX_close'].shift(-1)\n",
        "target['SPX_close-7'] = target['SPX_close-7'].shift(-7)\n",
        "target['SPX_close-15'] = target['SPX_close-15'].shift(-15)\n",
        "target = target.dropna()\n",
        "\n",
        "target['SPX'] = [(a,b,c) for a,b,c in zip(target['SPX_close'], target['SPX_close-7'], target['SPX_close-15'])]\n",
        "target = target[['date', 'SPX']]"
      ],
      "metadata": {
        "id": "TcLVsPWMuU1w"
      },
      "execution_count": null,
      "outputs": []
    },
    {
      "cell_type": "code",
      "source": [
        "# Creating dictionary of tweet dataframes, and associated models\n",
        "file_list = [file.replace('.json','') for file in os.listdir('Jedha_Final_Project/Tweets') if '.json' in file]\n",
        "joining_dict = {filename : pd.read_json(f'Jedha_Final_Project/Tweets/{filename}.json').drop(['Tweet Id', 'Username'], axis=1) for filename in file_list}\n",
        "\n",
        "for key, df in zip(joining_dict.keys(), joining_dict.values()):\n",
        "  joining_dict[key] = joining_dict[key].rename(columns={'Datetime':'date','Text':key})\n",
        "  joining_dict[key]['date'] = joining_dict[key]['date'].apply(datetime.date)\n",
        "  joining_dict[key][key] = joining_dict[key][key].apply(cleaning)\n",
        "  joining_dict[key] = targetize(key, target)\n",
        "\n",
        "models  = {key : ModelBuilder() for key in joining_dict.keys()}\n",
        "\n",
        "# model_BBC_1.layers[-1].bias.assign([SPX_1['SPX_close'].mean()])\n",
        "# model_BBC_7.layers[-1].bias.assign([SPX_7['SPX_close-7'].mean()])\n",
        "# model_BBC_15.layers[-1].bias.assign([SPX_15['SPX_close-15'].mean()])"
      ],
      "metadata": {
        "id": "0eKfEKMlcn_J"
      },
      "execution_count": 124,
      "outputs": []
    },
    {
      "cell_type": "code",
      "source": [
        "target_1  = target.copy()\n",
        "target_7  = target.copy()\n",
        "target_15 = target.copy()\n",
        "\n",
        "target_1['date']  = target_1['date'].shift(-1)\n",
        "target_7['date']  = target_7['date'].shift(-2*7)\n",
        "target_15['date'] = target_15['date'].shift(-2*15)\n",
        "\n",
        "target_1  = target_1[['date', 'SPX_close']].dropna()\n",
        "target_7  = target_7[['date', 'SPX_close-7']].dropna()\n",
        "target_15 = target_15[['date', 'SPX_close-15']].dropna()\n",
        "\n",
        "SPX_1  = tweets[['date','text']].merge(target_1, on='date', how='inner')\n",
        "SPX_7  = tweets[['date','text']].merge(target_7, on='date', how='inner')\n",
        "SPX_15 = tweets[['date','text']].merge(target_15, on='date', how='inner')"
      ],
      "metadata": {
        "colab": {
          "base_uri": "https://localhost:8080/"
        },
        "id": "x8XUMqEgnT-H",
        "outputId": "ef36cfca-fe16-48fc-aabf-b900a685bd16"
      },
      "execution_count": null,
      "outputs": [
        {
          "output_type": "execute_result",
          "data": {
            "text/plain": [
              "<tf.Variable 'UnreadVariable' shape=(1,) dtype=float32, numpy=array([1901.2573], dtype=float32)>"
            ]
          },
          "metadata": {},
          "execution_count": 12
        }
      ]
    },
    {
      "cell_type": "code",
      "source": [
        "callbacks = [tf.keras.callbacks.EarlyStopping(patience=10),\n",
        "             #tf.keras.callbacks.ModelCheckpoint(filepath='Jedha_Final_Project/Model Weights/model.{epoch:02d}-{val_loss:.2f}.h5',\n",
        "                                                #save_best_only=True,\n",
        "                                                #save_weights_only=True,)\n",
        "]"
      ],
      "metadata": {
        "id": "ljJMjHHvi7pT"
      },
      "execution_count": null,
      "outputs": []
    },
    {
      "cell_type": "code",
      "source": [
        "X_train, X_test, y_train, y_test = train_test_split(SPX_1['text'],\n",
        "                                                    SPX_1['SPX_close'],\n",
        "                                                    test_size=0.3,\n",
        "                                                    random_state=42\n",
        "                                                    )\n",
        "\n",
        "model_BBC_1.fit(x=X_train, \n",
        "                y=y_train,\n",
        "                validation_data=(X_test,y_test),\n",
        "                epochs=600,\n",
        "                callbacks=callbacks)"
      ],
      "metadata": {
        "colab": {
          "base_uri": "https://localhost:8080/"
        },
        "id": "d29KccytjhqL",
        "outputId": "ec912408-5072-43fb-b6a3-75d047bf8e89"
      },
      "execution_count": null,
      "outputs": [
        {
          "output_type": "stream",
          "name": "stdout",
          "text": [
            "Epoch 1/600\n",
            "646/646 [==============================] - 6s 7ms/step - loss: 21.4029 - mean_absolute_error: 451.3493 - val_loss: 20.3356 - val_mean_absolute_error: 429.8079\n",
            "Epoch 2/600\n",
            "646/646 [==============================] - 3s 4ms/step - loss: 20.0029 - mean_absolute_error: 427.6404 - val_loss: 20.0683 - val_mean_absolute_error: 420.7628\n",
            "Epoch 3/600\n",
            "646/646 [==============================] - 5s 8ms/step - loss: 19.7268 - mean_absolute_error: 420.6153 - val_loss: 20.0014 - val_mean_absolute_error: 428.6804\n",
            "Epoch 4/600\n",
            "646/646 [==============================] - 4s 6ms/step - loss: 19.4877 - mean_absolute_error: 415.3411 - val_loss: 19.7483 - val_mean_absolute_error: 409.2454\n",
            "Epoch 5/600\n",
            "646/646 [==============================] - 3s 4ms/step - loss: 19.2254 - mean_absolute_error: 410.1075 - val_loss: 19.4868 - val_mean_absolute_error: 409.1437\n",
            "Epoch 6/600\n",
            "646/646 [==============================] - 4s 5ms/step - loss: 18.9244 - mean_absolute_error: 404.0961 - val_loss: 19.3366 - val_mean_absolute_error: 409.5049\n",
            "Epoch 7/600\n",
            "646/646 [==============================] - 3s 4ms/step - loss: 18.6682 - mean_absolute_error: 400.0906 - val_loss: 19.2006 - val_mean_absolute_error: 397.2812\n",
            "Epoch 8/600\n",
            "646/646 [==============================] - 3s 4ms/step - loss: 18.3752 - mean_absolute_error: 394.6653 - val_loss: 19.0805 - val_mean_absolute_error: 408.5534\n",
            "Epoch 9/600\n",
            "646/646 [==============================] - 4s 5ms/step - loss: 18.0967 - mean_absolute_error: 389.8152 - val_loss: 18.8715 - val_mean_absolute_error: 399.4614\n",
            "Epoch 10/600\n",
            "646/646 [==============================] - 3s 4ms/step - loss: 17.8423 - mean_absolute_error: 384.4870 - val_loss: 18.8159 - val_mean_absolute_error: 392.4885\n",
            "Epoch 11/600\n",
            "646/646 [==============================] - 3s 4ms/step - loss: 17.6102 - mean_absolute_error: 381.2470 - val_loss: 18.8649 - val_mean_absolute_error: 386.5608\n",
            "Epoch 12/600\n",
            "646/646 [==============================] - 3s 4ms/step - loss: 17.3661 - mean_absolute_error: 376.8164 - val_loss: 18.6369 - val_mean_absolute_error: 394.7997\n",
            "Epoch 13/600\n",
            "646/646 [==============================] - 4s 5ms/step - loss: 17.1326 - mean_absolute_error: 372.6172 - val_loss: 18.5343 - val_mean_absolute_error: 388.3018\n",
            "Epoch 14/600\n",
            "646/646 [==============================] - 3s 4ms/step - loss: 16.9271 - mean_absolute_error: 368.7841 - val_loss: 18.4814 - val_mean_absolute_error: 387.1724\n",
            "Epoch 15/600\n",
            "646/646 [==============================] - 3s 4ms/step - loss: 16.7164 - mean_absolute_error: 365.1740 - val_loss: 18.4878 - val_mean_absolute_error: 384.5128\n",
            "Epoch 16/600\n",
            "646/646 [==============================] - 3s 4ms/step - loss: 16.5561 - mean_absolute_error: 362.4688 - val_loss: 18.4166 - val_mean_absolute_error: 382.2415\n",
            "Epoch 17/600\n",
            "646/646 [==============================] - 4s 5ms/step - loss: 16.3594 - mean_absolute_error: 359.4610 - val_loss: 18.3635 - val_mean_absolute_error: 386.9033\n",
            "Epoch 18/600\n",
            "646/646 [==============================] - 3s 4ms/step - loss: 16.1385 - mean_absolute_error: 355.4145 - val_loss: 18.3778 - val_mean_absolute_error: 386.6387\n",
            "Epoch 19/600\n",
            "646/646 [==============================] - 3s 5ms/step - loss: 15.9430 - mean_absolute_error: 351.8984 - val_loss: 18.3537 - val_mean_absolute_error: 386.0252\n",
            "Epoch 20/600\n",
            "646/646 [==============================] - 3s 4ms/step - loss: 15.7902 - mean_absolute_error: 349.2838 - val_loss: 18.5502 - val_mean_absolute_error: 382.3601\n",
            "Epoch 21/600\n",
            "646/646 [==============================] - 3s 4ms/step - loss: 15.6495 - mean_absolute_error: 346.3630 - val_loss: 18.4465 - val_mean_absolute_error: 394.1927\n",
            "Epoch 22/600\n",
            "646/646 [==============================] - 3s 5ms/step - loss: 15.4506 - mean_absolute_error: 343.3531 - val_loss: 18.5355 - val_mean_absolute_error: 383.3267\n",
            "Epoch 23/600\n",
            "646/646 [==============================] - 3s 5ms/step - loss: 15.2934 - mean_absolute_error: 339.9918 - val_loss: 18.4812 - val_mean_absolute_error: 383.8987\n",
            "Epoch 24/600\n",
            "646/646 [==============================] - 4s 5ms/step - loss: 15.1277 - mean_absolute_error: 337.4281 - val_loss: 18.4763 - val_mean_absolute_error: 387.0564\n",
            "Epoch 25/600\n",
            "646/646 [==============================] - 3s 5ms/step - loss: 15.0379 - mean_absolute_error: 336.0862 - val_loss: 18.3769 - val_mean_absolute_error: 391.8753\n",
            "Epoch 26/600\n",
            "646/646 [==============================] - 3s 5ms/step - loss: 14.8577 - mean_absolute_error: 332.5452 - val_loss: 18.5071 - val_mean_absolute_error: 393.5612\n",
            "Epoch 27/600\n",
            "646/646 [==============================] - 3s 4ms/step - loss: 14.7100 - mean_absolute_error: 329.8185 - val_loss: 18.6484 - val_mean_absolute_error: 399.9715\n",
            "Epoch 28/600\n",
            "646/646 [==============================] - 3s 5ms/step - loss: 14.6397 - mean_absolute_error: 328.7091 - val_loss: 18.4404 - val_mean_absolute_error: 391.4395\n",
            "Epoch 29/600\n",
            "646/646 [==============================] - 4s 5ms/step - loss: 14.4215 - mean_absolute_error: 324.2780 - val_loss: 18.5324 - val_mean_absolute_error: 393.6177\n"
          ]
        },
        {
          "output_type": "execute_result",
          "data": {
            "text/plain": [
              "<keras.callbacks.History at 0x7fcac082c850>"
            ]
          },
          "metadata": {},
          "execution_count": 14
        }
      ]
    },
    {
      "cell_type": "code",
      "source": [
        "X_train, X_test, y_train, y_test = train_test_split(SPX_7['text'],\n",
        "                                                    SPX_7['SPX_close-7'],\n",
        "                                                    test_size=0.3,\n",
        "                                                    random_state=42\n",
        "                                                    )\n",
        "\n",
        "model_BBC_7.fit(x=X_train, \n",
        "                y=y_train,\n",
        "                validation_data=(X_test,y_test),\n",
        "                epochs=600,\n",
        "                callbacks=callbacks)"
      ],
      "metadata": {
        "colab": {
          "base_uri": "https://localhost:8080/"
        },
        "id": "pghW45jarjjp",
        "outputId": "7f6653ff-9284-4eca-eae6-c34d90e268cf"
      },
      "execution_count": null,
      "outputs": [
        {
          "output_type": "stream",
          "name": "stdout",
          "text": [
            "Epoch 1/600\n",
            "645/645 [==============================] - 4s 6ms/step - loss: 21.5352 - mean_absolute_error: 451.9191 - val_loss: 20.3641 - val_mean_absolute_error: 432.8064\n",
            "Epoch 2/600\n",
            "645/645 [==============================] - 3s 4ms/step - loss: 20.2662 - mean_absolute_error: 430.5675 - val_loss: 20.2040 - val_mean_absolute_error: 430.8244\n",
            "Epoch 3/600\n",
            "645/645 [==============================] - 3s 4ms/step - loss: 20.0066 - mean_absolute_error: 423.8133 - val_loss: 20.0410 - val_mean_absolute_error: 423.3953\n",
            "Epoch 4/600\n",
            "645/645 [==============================] - 3s 4ms/step - loss: 19.7645 - mean_absolute_error: 418.2492 - val_loss: 19.8662 - val_mean_absolute_error: 421.0193\n",
            "Epoch 5/600\n",
            "645/645 [==============================] - 3s 4ms/step - loss: 19.4550 - mean_absolute_error: 412.2196 - val_loss: 19.6185 - val_mean_absolute_error: 412.8195\n",
            "Epoch 6/600\n",
            "645/645 [==============================] - 3s 4ms/step - loss: 19.1742 - mean_absolute_error: 406.8737 - val_loss: 19.4840 - val_mean_absolute_error: 401.4501\n",
            "Epoch 7/600\n",
            "645/645 [==============================] - 3s 4ms/step - loss: 18.8491 - mean_absolute_error: 400.6193 - val_loss: 19.2233 - val_mean_absolute_error: 408.8205\n",
            "Epoch 8/600\n",
            "645/645 [==============================] - 3s 5ms/step - loss: 18.5321 - mean_absolute_error: 395.2346 - val_loss: 19.0767 - val_mean_absolute_error: 403.0176\n",
            "Epoch 9/600\n",
            "645/645 [==============================] - 3s 5ms/step - loss: 18.2648 - mean_absolute_error: 389.9294 - val_loss: 19.1645 - val_mean_absolute_error: 415.1282\n",
            "Epoch 10/600\n",
            "645/645 [==============================] - 3s 4ms/step - loss: 18.0265 - mean_absolute_error: 385.8737 - val_loss: 18.9002 - val_mean_absolute_error: 401.1913\n",
            "Epoch 11/600\n",
            "645/645 [==============================] - 3s 4ms/step - loss: 17.7922 - mean_absolute_error: 381.7823 - val_loss: 18.8230 - val_mean_absolute_error: 399.5481\n",
            "Epoch 12/600\n",
            "645/645 [==============================] - 3s 4ms/step - loss: 17.5382 - mean_absolute_error: 377.2065 - val_loss: 18.8361 - val_mean_absolute_error: 394.1214\n",
            "Epoch 13/600\n",
            "645/645 [==============================] - 3s 4ms/step - loss: 17.3683 - mean_absolute_error: 374.1623 - val_loss: 18.8299 - val_mean_absolute_error: 408.8871\n",
            "Epoch 14/600\n",
            "645/645 [==============================] - 3s 4ms/step - loss: 17.1600 - mean_absolute_error: 370.4026 - val_loss: 18.6927 - val_mean_absolute_error: 395.4893\n",
            "Epoch 15/600\n",
            "645/645 [==============================] - 3s 5ms/step - loss: 16.9173 - mean_absolute_error: 366.2207 - val_loss: 18.7275 - val_mean_absolute_error: 394.6981\n",
            "Epoch 16/600\n",
            "645/645 [==============================] - 3s 4ms/step - loss: 16.7108 - mean_absolute_error: 362.2626 - val_loss: 18.9670 - val_mean_absolute_error: 388.3879\n",
            "Epoch 17/600\n",
            "645/645 [==============================] - 3s 4ms/step - loss: 16.5374 - mean_absolute_error: 358.8171 - val_loss: 18.6469 - val_mean_absolute_error: 399.6153\n",
            "Epoch 18/600\n",
            "645/645 [==============================] - 4s 6ms/step - loss: 16.3339 - mean_absolute_error: 355.5172 - val_loss: 18.7082 - val_mean_absolute_error: 389.5577\n",
            "Epoch 19/600\n",
            "645/645 [==============================] - 3s 4ms/step - loss: 16.1436 - mean_absolute_error: 352.1886 - val_loss: 18.5221 - val_mean_absolute_error: 394.2158\n",
            "Epoch 20/600\n",
            "645/645 [==============================] - 3s 4ms/step - loss: 15.9905 - mean_absolute_error: 349.1253 - val_loss: 18.6236 - val_mean_absolute_error: 398.1942\n",
            "Epoch 21/600\n",
            "645/645 [==============================] - 3s 4ms/step - loss: 15.8071 - mean_absolute_error: 346.0107 - val_loss: 19.1740 - val_mean_absolute_error: 387.9369\n",
            "Epoch 22/600\n",
            "645/645 [==============================] - 3s 5ms/step - loss: 15.6705 - mean_absolute_error: 343.1257 - val_loss: 18.6313 - val_mean_absolute_error: 390.1146\n",
            "Epoch 23/600\n",
            "645/645 [==============================] - 4s 5ms/step - loss: 15.5291 - mean_absolute_error: 340.7989 - val_loss: 18.6277 - val_mean_absolute_error: 389.7153\n",
            "Epoch 24/600\n",
            "645/645 [==============================] - 3s 5ms/step - loss: 15.3488 - mean_absolute_error: 337.5843 - val_loss: 18.6313 - val_mean_absolute_error: 394.8027\n",
            "Epoch 25/600\n",
            "645/645 [==============================] - 3s 5ms/step - loss: 15.2408 - mean_absolute_error: 335.2124 - val_loss: 18.6727 - val_mean_absolute_error: 398.3430\n",
            "Epoch 26/600\n",
            "645/645 [==============================] - 3s 4ms/step - loss: 15.0718 - mean_absolute_error: 332.1096 - val_loss: 18.5895 - val_mean_absolute_error: 389.7645\n",
            "Epoch 27/600\n",
            "645/645 [==============================] - 3s 4ms/step - loss: 14.9213 - mean_absolute_error: 329.1916 - val_loss: 18.8987 - val_mean_absolute_error: 391.2603\n",
            "Epoch 28/600\n",
            "645/645 [==============================] - 3s 4ms/step - loss: 14.7638 - mean_absolute_error: 326.3087 - val_loss: 18.6637 - val_mean_absolute_error: 395.7787\n",
            "Epoch 29/600\n",
            "645/645 [==============================] - 3s 4ms/step - loss: 14.6545 - mean_absolute_error: 324.2779 - val_loss: 18.8389 - val_mean_absolute_error: 400.9317\n"
          ]
        },
        {
          "output_type": "execute_result",
          "data": {
            "text/plain": [
              "<keras.callbacks.History at 0x7fca38b07950>"
            ]
          },
          "metadata": {},
          "execution_count": 15
        }
      ]
    },
    {
      "cell_type": "code",
      "source": [
        "X_train, X_test, y_train, y_test = train_test_split(SPX_15['text'],\n",
        "                                                    SPX_15['SPX_close-15'],\n",
        "                                                    test_size=0.3,\n",
        "                                                    random_state=42\n",
        "                                                    )\n",
        "\n",
        "model_BBC_15.fit(x=X_train, \n",
        "                y=y_train,\n",
        "                validation_data=(X_test,y_test),\n",
        "                epochs=600,\n",
        "                callbacks=callbacks)"
      ],
      "metadata": {
        "colab": {
          "base_uri": "https://localhost:8080/"
        },
        "id": "W0nPj3FS7AHX",
        "outputId": "60fcaefb-38f9-4ca8-e47f-8aafb4b96ad8"
      },
      "execution_count": null,
      "outputs": [
        {
          "output_type": "stream",
          "name": "stdout",
          "text": [
            "Epoch 1/600\n",
            "645/645 [==============================] - 3s 5ms/step - loss: 21.6281 - mean_absolute_error: 449.9515 - val_loss: 20.6900 - val_mean_absolute_error: 425.5289\n",
            "Epoch 2/600\n",
            "645/645 [==============================] - 3s 5ms/step - loss: 20.2980 - mean_absolute_error: 428.0872 - val_loss: 20.3251 - val_mean_absolute_error: 419.6345\n",
            "Epoch 3/600\n",
            "645/645 [==============================] - 3s 4ms/step - loss: 20.0190 - mean_absolute_error: 420.2380 - val_loss: 20.2227 - val_mean_absolute_error: 412.0955\n",
            "Epoch 4/600\n",
            "645/645 [==============================] - 3s 4ms/step - loss: 19.7566 - mean_absolute_error: 414.0957 - val_loss: 20.0190 - val_mean_absolute_error: 410.0708\n",
            "Epoch 5/600\n",
            "645/645 [==============================] - 3s 4ms/step - loss: 19.4868 - mean_absolute_error: 408.8352 - val_loss: 19.8048 - val_mean_absolute_error: 412.0103\n",
            "Epoch 6/600\n",
            "645/645 [==============================] - 3s 5ms/step - loss: 19.1770 - mean_absolute_error: 403.8261 - val_loss: 19.7280 - val_mean_absolute_error: 402.4821\n",
            "Epoch 7/600\n",
            "645/645 [==============================] - 3s 4ms/step - loss: 18.8880 - mean_absolute_error: 398.5865 - val_loss: 19.5650 - val_mean_absolute_error: 414.1258\n",
            "Epoch 8/600\n",
            "645/645 [==============================] - 3s 4ms/step - loss: 18.6341 - mean_absolute_error: 394.2305 - val_loss: 19.4053 - val_mean_absolute_error: 408.3246\n",
            "Epoch 9/600\n",
            "645/645 [==============================] - 3s 4ms/step - loss: 18.4019 - mean_absolute_error: 389.7679 - val_loss: 19.3696 - val_mean_absolute_error: 395.3376\n",
            "Epoch 10/600\n",
            "645/645 [==============================] - 3s 4ms/step - loss: 18.1574 - mean_absolute_error: 385.5368 - val_loss: 19.1372 - val_mean_absolute_error: 398.5452\n",
            "Epoch 11/600\n",
            "645/645 [==============================] - 3s 5ms/step - loss: 17.9343 - mean_absolute_error: 381.4739 - val_loss: 19.1550 - val_mean_absolute_error: 399.5562\n",
            "Epoch 12/600\n",
            "645/645 [==============================] - 3s 4ms/step - loss: 17.7583 - mean_absolute_error: 378.5191 - val_loss: 19.0825 - val_mean_absolute_error: 393.2970\n",
            "Epoch 13/600\n",
            "645/645 [==============================] - 3s 5ms/step - loss: 17.5221 - mean_absolute_error: 373.8702 - val_loss: 19.0914 - val_mean_absolute_error: 390.6164\n",
            "Epoch 14/600\n",
            "645/645 [==============================] - 3s 5ms/step - loss: 17.3331 - mean_absolute_error: 370.4759 - val_loss: 19.0027 - val_mean_absolute_error: 397.6984\n",
            "Epoch 15/600\n",
            "645/645 [==============================] - 3s 5ms/step - loss: 17.1387 - mean_absolute_error: 367.1526 - val_loss: 18.9434 - val_mean_absolute_error: 402.6627\n",
            "Epoch 16/600\n",
            "645/645 [==============================] - 3s 5ms/step - loss: 16.9229 - mean_absolute_error: 363.1526 - val_loss: 18.8774 - val_mean_absolute_error: 391.3048\n",
            "Epoch 17/600\n",
            "645/645 [==============================] - 3s 4ms/step - loss: 16.7445 - mean_absolute_error: 359.9821 - val_loss: 18.8998 - val_mean_absolute_error: 396.3692\n",
            "Epoch 18/600\n",
            "645/645 [==============================] - 3s 4ms/step - loss: 16.5511 - mean_absolute_error: 356.5410 - val_loss: 18.9147 - val_mean_absolute_error: 390.4551\n",
            "Epoch 19/600\n",
            "645/645 [==============================] - 3s 4ms/step - loss: 16.3667 - mean_absolute_error: 353.1782 - val_loss: 18.9002 - val_mean_absolute_error: 398.6980\n",
            "Epoch 20/600\n",
            "645/645 [==============================] - 3s 4ms/step - loss: 16.1545 - mean_absolute_error: 349.4685 - val_loss: 18.9681 - val_mean_absolute_error: 388.2632\n",
            "Epoch 21/600\n",
            "645/645 [==============================] - 3s 4ms/step - loss: 16.0133 - mean_absolute_error: 347.0120 - val_loss: 18.8953 - val_mean_absolute_error: 388.2705\n",
            "Epoch 22/600\n",
            "645/645 [==============================] - 3s 5ms/step - loss: 15.8076 - mean_absolute_error: 343.3716 - val_loss: 18.8117 - val_mean_absolute_error: 392.2690\n",
            "Epoch 23/600\n",
            "645/645 [==============================] - 3s 4ms/step - loss: 15.6421 - mean_absolute_error: 339.8277 - val_loss: 18.8653 - val_mean_absolute_error: 390.1044\n",
            "Epoch 24/600\n",
            "645/645 [==============================] - 3s 4ms/step - loss: 15.4913 - mean_absolute_error: 337.4526 - val_loss: 18.8362 - val_mean_absolute_error: 388.4911\n",
            "Epoch 25/600\n",
            "645/645 [==============================] - 3s 5ms/step - loss: 15.3277 - mean_absolute_error: 333.9544 - val_loss: 18.8496 - val_mean_absolute_error: 389.0275\n",
            "Epoch 26/600\n",
            "645/645 [==============================] - 3s 4ms/step - loss: 15.1919 - mean_absolute_error: 331.8123 - val_loss: 18.9548 - val_mean_absolute_error: 394.0731\n",
            "Epoch 27/600\n",
            "645/645 [==============================] - 3s 4ms/step - loss: 15.0140 - mean_absolute_error: 328.5058 - val_loss: 18.9245 - val_mean_absolute_error: 390.1032\n",
            "Epoch 28/600\n",
            "645/645 [==============================] - 3s 4ms/step - loss: 14.8765 - mean_absolute_error: 325.7316 - val_loss: 19.0229 - val_mean_absolute_error: 388.0347\n",
            "Epoch 29/600\n",
            "645/645 [==============================] - 4s 5ms/step - loss: 14.7393 - mean_absolute_error: 322.6552 - val_loss: 18.8942 - val_mean_absolute_error: 393.3563\n",
            "Epoch 30/600\n",
            "645/645 [==============================] - 3s 5ms/step - loss: 14.6618 - mean_absolute_error: 321.5408 - val_loss: 18.9291 - val_mean_absolute_error: 388.9742\n",
            "Epoch 31/600\n",
            "645/645 [==============================] - 4s 5ms/step - loss: 14.5032 - mean_absolute_error: 318.8195 - val_loss: 18.9176 - val_mean_absolute_error: 387.8578\n",
            "Epoch 32/600\n",
            "645/645 [==============================] - 3s 4ms/step - loss: 14.3829 - mean_absolute_error: 316.1649 - val_loss: 19.2053 - val_mean_absolute_error: 387.8294\n"
          ]
        },
        {
          "output_type": "execute_result",
          "data": {
            "text/plain": [
              "<keras.callbacks.History at 0x7fca395a3050>"
            ]
          },
          "metadata": {},
          "execution_count": 16
        }
      ]
    },
    {
      "cell_type": "code",
      "source": [
        "min(model_BBC_1.history.history['val_loss'])"
      ],
      "metadata": {
        "colab": {
          "base_uri": "https://localhost:8080/"
        },
        "id": "4NIWoG2jHU0V",
        "outputId": "acd5ccac-169d-40ab-ca7c-8b1f4770d213"
      },
      "execution_count": null,
      "outputs": [
        {
          "output_type": "execute_result",
          "data": {
            "text/plain": [
              "18.353670120239258"
            ]
          },
          "metadata": {},
          "execution_count": 17
        }
      ]
    },
    {
      "cell_type": "code",
      "source": [
        "min(model_BBC_7.history.history['val_loss'])"
      ],
      "metadata": {
        "colab": {
          "base_uri": "https://localhost:8080/"
        },
        "id": "NbZGeA8fJnmn",
        "outputId": "a4e32e6e-878f-46a4-8bda-5b5b0778b01b"
      },
      "execution_count": null,
      "outputs": [
        {
          "output_type": "execute_result",
          "data": {
            "text/plain": [
              "18.522138595581055"
            ]
          },
          "metadata": {},
          "execution_count": 18
        }
      ]
    },
    {
      "cell_type": "code",
      "source": [
        "min(model_BBC_15.history.history['val_loss'])"
      ],
      "metadata": {
        "colab": {
          "base_uri": "https://localhost:8080/"
        },
        "id": "6Vfg6K3jK_JN",
        "outputId": "aba9c711-0f1b-4cbd-f0d1-b77c9434a3fa"
      },
      "execution_count": null,
      "outputs": [
        {
          "output_type": "execute_result",
          "data": {
            "text/plain": [
              "18.811670303344727"
            ]
          },
          "metadata": {},
          "execution_count": 19
        }
      ]
    },
    {
      "cell_type": "code",
      "source": [
        ""
      ],
      "metadata": {
        "id": "RkJqGYR4K_4F"
      },
      "execution_count": null,
      "outputs": []
    }
  ]
}