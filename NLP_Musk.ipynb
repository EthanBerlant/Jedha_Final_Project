{
  "nbformat": 4,
  "nbformat_minor": 0,
  "metadata": {
    "colab": {
      "name": "NLP-Musk.ipynb",
      "provenance": [],
      "collapsed_sections": [],
      "authorship_tag": "ABX9TyOH1NVWAoevZIKU0ehQlOlN",
      "include_colab_link": true
    },
    "kernelspec": {
      "name": "python3",
      "display_name": "Python 3"
    },
    "language_info": {
      "name": "python"
    },
    "accelerator": "GPU",
    "gpuClass": "standard"
  },
  "cells": [
    {
      "cell_type": "markdown",
      "metadata": {
        "id": "view-in-github",
        "colab_type": "text"
      },
      "source": [
        "<a href=\"https://colab.research.google.com/github/EthanBerlant/Jedha_Final_Project/blob/main/NLP_Musk.ipynb\" target=\"_parent\"><img src=\"https://colab.research.google.com/assets/colab-badge.svg\" alt=\"Open In Colab\"/></a>"
      ]
    },
    {
      "cell_type": "code",
      "execution_count": 3,
      "metadata": {
        "id": "iOWtf6ft0WC9",
        "colab": {
          "base_uri": "https://localhost:8080/"
        },
        "outputId": "1353fe88-aa75-49ff-9856-99367c56b09a"
      },
      "outputs": [
        {
          "output_type": "stream",
          "name": "stdout",
          "text": [
            "fatal: destination path 'Jedha_Final_Project' already exists and is not an empty directory.\n"
          ]
        }
      ],
      "source": [
        "import tensorflow as tf\n",
        "import tensorflow_hub as hub\n",
        "from tensorflow import keras\n",
        "\n",
        "%matplotlib inline\n",
        "import matplotlib.pyplot as plt\n",
        "\n",
        "import numpy as np\n",
        "import pandas as pd\n",
        "from dateutil.parser import parse\n",
        "from datetime import datetime\n",
        "\n",
        "import keras \n",
        "\n",
        "from keras.models import Sequential\n",
        "from keras.layers import Dense, Activation, Dropout, Flatten\n",
        "\n",
        "from keras.losses import MeanAbsolutePercentageError\n",
        "\n",
        "from keras.utils import np_utils\n",
        "\n",
        "from keras.layers.recurrent import LSTM, GRU\n",
        "from sklearn.preprocessing import StandardScaler\n",
        "from sklearn.model_selection import train_test_split\n",
        "from keras.callbacks import EarlyStopping, ModelCheckpoint\n",
        "\n",
        "!git clone 'https://github.com/EthanBerlant/Jedha_Final_Project.git'"
      ]
    },
    {
      "cell_type": "code",
      "source": [
        "output_dim = 128"
      ],
      "metadata": {
        "id": "8jZAfuQrxcX7"
      },
      "execution_count": 4,
      "outputs": []
    },
    {
      "cell_type": "code",
      "source": [
        "embed = hub.load(\"https://tfhub.dev/google/tf2-preview/nnlm-en-dim128-with-normalization/1\")"
      ],
      "metadata": {
        "id": "A3-Zc8EQu9Bp"
      },
      "execution_count": 5,
      "outputs": []
    },
    {
      "cell_type": "code",
      "source": [
        "def EMBED(output_dim): # \"Token based text embedding trained on English Google News 200B corpus.\"\n",
        "  return hub.KerasLayer(\"https://tfhub.dev/google/tf2-preview/nnlm-en-dim128-with-normalization/1\", output_shape=[output_dim], input_shape=[], dtype=tf.string)"
      ],
      "metadata": {
        "id": "XCjE9U9y1ENc"
      },
      "execution_count": 6,
      "outputs": []
    },
    {
      "cell_type": "code",
      "source": [
        "model_Musk_1 = Sequential()\n",
        "\n",
        "model_Musk_1.add(EMBED(output_dim))\n",
        "model_Musk_1.add(keras.layers.Dense(128, activation='relu'))\n",
        "model_Musk_1.add(keras.layers.Dense(64, activation='relu'))\n",
        "model_Musk_1.add(keras.layers.Dense(32, activation='relu'))\n",
        "model_Musk_1.add(keras.layers.Dense(1, activation='linear'))\n",
        "\n",
        "model_Musk_1.compile(loss='MeanAbsolutePercentageError', \n",
        "                    optimizer='adam', \n",
        "                    metrics=['MeanAbsoluteError'])\n",
        "\n",
        "#model_Musk_1.summary()"
      ],
      "metadata": {
        "id": "iYlVZT5bxGqA"
      },
      "execution_count": 7,
      "outputs": []
    },
    {
      "cell_type": "code",
      "source": [
        "model_Musk_7 = Sequential()\n",
        "\n",
        "model_Musk_7.add(EMBED(output_dim))\n",
        "model_Musk_7.add(keras.layers.Dense(128, activation='relu'))\n",
        "model_Musk_7.add(keras.layers.Dense(64, activation='relu'))\n",
        "model_Musk_7.add(keras.layers.Dense(32, activation='relu'))\n",
        "model_Musk_7.add(keras.layers.Dense(1, activation='linear'))\n",
        "\n",
        "model_Musk_7.compile(loss='MeanAbsolutePercentageError', \n",
        "                    optimizer='adam', \n",
        "                    metrics=['MeanAbsoluteError'])\n",
        "\n",
        "#model_Musk_7.summary()"
      ],
      "metadata": {
        "id": "b88M4q1e3t3x"
      },
      "execution_count": 8,
      "outputs": []
    },
    {
      "cell_type": "code",
      "source": [
        "model_Musk_15 = Sequential()\n",
        "\n",
        "model_Musk_15.add(EMBED(output_dim))\n",
        "model_Musk_15.add(keras.layers.Dense(128, activation='relu'))\n",
        "model_Musk_15.add(keras.layers.Dense(64, activation='relu'))\n",
        "model_Musk_15.add(keras.layers.Dense(32, activation='relu'))\n",
        "model_Musk_15.add(keras.layers.Dense(1, activation='linear'))\n",
        "\n",
        "model_Musk_15.compile(loss='MeanAbsolutePercentageError', \n",
        "                    optimizer='adam', \n",
        "                    metrics=['MeanAbsoluteError'])\n",
        "\n",
        "#model_Musk_15.summary()"
      ],
      "metadata": {
        "id": "nmG_FLU53z6X"
      },
      "execution_count": 9,
      "outputs": []
    },
    {
      "cell_type": "code",
      "source": [
        "import fnmatch\n",
        "def filter(tweet):\n",
        "  new_tweet = []\n",
        "  for word in tweet.split():\n",
        "    if word not in fnmatch.filter(tweet.split(), 'http*') and '@' not in word:\n",
        "      new_tweet.append(word)\n",
        "  return ' '.join(new_tweet)"
      ],
      "metadata": {
        "id": "5sW647agmwJY"
      },
      "execution_count": 10,
      "outputs": []
    },
    {
      "cell_type": "code",
      "source": [
        "tweets = pd.read_json('Jedha_Final_Project/elonmusk.json')\n",
        "tweets = tweets.drop(['Tweet Id', 'Username'], axis=1).copy()\n",
        "tweets.columns = ['date', 'text']\n",
        "tweets['date'] = tweets['date'].apply(datetime.date)\n",
        "tweets['text'] = tweets['text'].apply(filter)\n",
        "#tweets['text_embedding'] = tweets['text'].apply(lambda x: embed([x]))"
      ],
      "metadata": {
        "id": "SsQAy9hw_5ZF"
      },
      "execution_count": 11,
      "outputs": []
    },
    {
      "cell_type": "code",
      "source": [
        "target = pd.read_feather('Jedha_Final_Project/Data/cleaned_dataset.ftr')\n",
        "SPX = [col for col in target.columns if 'SPX' in col]\n",
        "SPX.insert(0,'date')\n",
        "target = target[SPX].copy()\n",
        "target['date'] = target['date'].apply(datetime.date)\n",
        "target = target[target['date'] >= tweets['date'].min()]"
      ],
      "metadata": {
        "id": "WIrJz7I9OKwA"
      },
      "execution_count": 12,
      "outputs": []
    },
    {
      "cell_type": "code",
      "source": [
        "target_1  = target.copy()\n",
        "target_7  = target.copy()\n",
        "target_15 = target.copy()\n",
        "\n",
        "target_1['date']  = target_1['date'].shift(-1)\n",
        "target_7['date']  = target_7['date'].shift(-2*7)\n",
        "target_15['date'] = target_15['date'].shift(-2*15)\n",
        "\n",
        "target_1  = target_1[['date', 'SPX_close']].dropna()\n",
        "target_7  = target_7[['date', 'SPX_close-7']].dropna()\n",
        "target_15 = target_15[['date', 'SPX_close-15']].dropna()\n",
        "\n",
        "SPX_1  = tweets[['date','text']].merge(target_1, on='date', how='inner')\n",
        "SPX_7  = tweets[['date','text']].merge(target_7, on='date', how='inner')\n",
        "SPX_15 = tweets[['date','text']].merge(target_15, on='date', how='inner')\n",
        "\n",
        "model_Musk_1.layers[-1].bias.assign([SPX_1['SPX_close'].mean()])\n",
        "model_Musk_7.layers[-1].bias.assign([SPX_7['SPX_close-7'].mean()])\n",
        "model_Musk_15.layers[-1].bias.assign([SPX_15['SPX_close-15'].mean()])"
      ],
      "metadata": {
        "colab": {
          "base_uri": "https://localhost:8080/"
        },
        "id": "x8XUMqEgnT-H",
        "outputId": "755d8728-683d-4698-f8a1-2e5701d5cd34"
      },
      "execution_count": 13,
      "outputs": [
        {
          "output_type": "execute_result",
          "data": {
            "text/plain": [
              "<tf.Variable 'UnreadVariable' shape=(1,) dtype=float32, numpy=array([3175.9546], dtype=float32)>"
            ]
          },
          "metadata": {},
          "execution_count": 13
        }
      ]
    },
    {
      "cell_type": "code",
      "source": [
        "callbacks = [tf.keras.callbacks.EarlyStopping(patience=10),\n",
        "             #tf.keras.callbacks.ModelCheckpoint(filepath='Jedha_Final_Project/Model Weights/model.{epoch:02d}-{val_loss:.2f}.h5',\n",
        "                                                #save_best_only=True,\n",
        "                                                #save_weights_only=True,)\n",
        "]"
      ],
      "metadata": {
        "id": "ljJMjHHvi7pT"
      },
      "execution_count": 14,
      "outputs": []
    },
    {
      "cell_type": "code",
      "source": [
        "X_train, X_test, y_train, y_test = train_test_split(SPX_1['text'],\n",
        "                                                    SPX_1['SPX_close'],\n",
        "                                                    test_size=0.3,\n",
        "                                                    random_state=42\n",
        "                                                    )\n",
        "\n",
        "model_Musk_1.fit(x=X_train, \n",
        "                y=y_train,\n",
        "                validation_data=(X_test,y_test),\n",
        "                epochs=600,\n",
        "                callbacks=callbacks)"
      ],
      "metadata": {
        "colab": {
          "base_uri": "https://localhost:8080/"
        },
        "id": "d29KccytjhqL",
        "outputId": "6ba99ebb-9bb8-4773-f0cf-1b69ec1d8b5a"
      },
      "execution_count": 15,
      "outputs": [
        {
          "output_type": "stream",
          "name": "stdout",
          "text": [
            "Epoch 1/600\n",
            "256/256 [==============================] - 6s 7ms/step - loss: 22.5353 - mean_absolute_error: 684.4692 - val_loss: 21.6333 - val_mean_absolute_error: 685.7678\n",
            "Epoch 2/600\n",
            "256/256 [==============================] - 2s 8ms/step - loss: 21.0847 - mean_absolute_error: 674.6410 - val_loss: 21.2673 - val_mean_absolute_error: 683.1230\n",
            "Epoch 3/600\n",
            "256/256 [==============================] - 2s 8ms/step - loss: 20.7741 - mean_absolute_error: 670.7700 - val_loss: 21.0763 - val_mean_absolute_error: 675.5289\n",
            "Epoch 4/600\n",
            "256/256 [==============================] - 2s 8ms/step - loss: 20.5304 - mean_absolute_error: 663.5529 - val_loss: 20.9246 - val_mean_absolute_error: 674.6367\n",
            "Epoch 5/600\n",
            "256/256 [==============================] - 2s 8ms/step - loss: 20.2973 - mean_absolute_error: 657.0017 - val_loss: 20.8382 - val_mean_absolute_error: 662.5858\n",
            "Epoch 6/600\n",
            "256/256 [==============================] - 2s 8ms/step - loss: 20.1243 - mean_absolute_error: 650.6960 - val_loss: 20.8122 - val_mean_absolute_error: 659.2382\n",
            "Epoch 7/600\n",
            "256/256 [==============================] - 2s 7ms/step - loss: 19.9972 - mean_absolute_error: 647.2595 - val_loss: 20.7711 - val_mean_absolute_error: 657.0000\n",
            "Epoch 8/600\n",
            "256/256 [==============================] - 2s 7ms/step - loss: 19.9002 - mean_absolute_error: 643.8917 - val_loss: 20.7467 - val_mean_absolute_error: 671.4442\n",
            "Epoch 9/600\n",
            "256/256 [==============================] - 2s 9ms/step - loss: 19.8208 - mean_absolute_error: 643.0956 - val_loss: 20.6725 - val_mean_absolute_error: 663.0477\n",
            "Epoch 10/600\n",
            "256/256 [==============================] - 2s 7ms/step - loss: 19.7376 - mean_absolute_error: 641.1842 - val_loss: 20.6707 - val_mean_absolute_error: 659.6030\n",
            "Epoch 11/600\n",
            "256/256 [==============================] - 2s 7ms/step - loss: 19.6750 - mean_absolute_error: 639.1229 - val_loss: 20.6859 - val_mean_absolute_error: 670.6608\n",
            "Epoch 12/600\n",
            "256/256 [==============================] - 1s 4ms/step - loss: 19.5649 - mean_absolute_error: 637.0826 - val_loss: 20.7137 - val_mean_absolute_error: 658.1750\n",
            "Epoch 13/600\n",
            "256/256 [==============================] - 1s 4ms/step - loss: 19.4709 - mean_absolute_error: 633.0626 - val_loss: 20.6086 - val_mean_absolute_error: 663.2922\n",
            "Epoch 14/600\n",
            "256/256 [==============================] - 1s 4ms/step - loss: 19.3805 - mean_absolute_error: 630.6653 - val_loss: 20.6967 - val_mean_absolute_error: 651.5600\n",
            "Epoch 15/600\n",
            "256/256 [==============================] - 1s 4ms/step - loss: 19.3086 - mean_absolute_error: 628.5605 - val_loss: 20.6022 - val_mean_absolute_error: 660.4857\n",
            "Epoch 16/600\n",
            "256/256 [==============================] - 1s 5ms/step - loss: 19.2125 - mean_absolute_error: 626.4832 - val_loss: 20.5982 - val_mean_absolute_error: 660.4518\n",
            "Epoch 17/600\n",
            "256/256 [==============================] - 1s 5ms/step - loss: 19.1367 - mean_absolute_error: 623.1776 - val_loss: 20.6254 - val_mean_absolute_error: 653.9051\n",
            "Epoch 18/600\n",
            "256/256 [==============================] - 1s 4ms/step - loss: 19.0454 - mean_absolute_error: 621.6237 - val_loss: 20.6012 - val_mean_absolute_error: 662.3084\n",
            "Epoch 19/600\n",
            "256/256 [==============================] - 1s 4ms/step - loss: 18.9771 - mean_absolute_error: 618.8547 - val_loss: 20.6090 - val_mean_absolute_error: 661.8913\n",
            "Epoch 20/600\n",
            "256/256 [==============================] - 1s 4ms/step - loss: 18.8568 - mean_absolute_error: 615.9647 - val_loss: 20.6067 - val_mean_absolute_error: 660.9247\n",
            "Epoch 21/600\n",
            "256/256 [==============================] - 1s 5ms/step - loss: 18.7180 - mean_absolute_error: 611.7077 - val_loss: 20.6277 - val_mean_absolute_error: 662.8306\n",
            "Epoch 22/600\n",
            "256/256 [==============================] - 1s 5ms/step - loss: 18.6564 - mean_absolute_error: 610.7283 - val_loss: 20.6090 - val_mean_absolute_error: 655.8535\n",
            "Epoch 23/600\n",
            "256/256 [==============================] - 1s 4ms/step - loss: 18.5184 - mean_absolute_error: 606.3442 - val_loss: 20.6528 - val_mean_absolute_error: 659.6957\n",
            "Epoch 24/600\n",
            "256/256 [==============================] - 1s 5ms/step - loss: 18.4374 - mean_absolute_error: 604.5468 - val_loss: 20.6952 - val_mean_absolute_error: 665.5003\n",
            "Epoch 25/600\n",
            "256/256 [==============================] - 1s 4ms/step - loss: 18.2730 - mean_absolute_error: 599.2290 - val_loss: 20.7306 - val_mean_absolute_error: 668.0016\n",
            "Epoch 26/600\n",
            "256/256 [==============================] - 1s 4ms/step - loss: 18.1674 - mean_absolute_error: 597.0419 - val_loss: 20.7975 - val_mean_absolute_error: 653.1394\n"
          ]
        },
        {
          "output_type": "execute_result",
          "data": {
            "text/plain": [
              "<keras.callbacks.History at 0x7fbbd186c110>"
            ]
          },
          "metadata": {},
          "execution_count": 15
        }
      ]
    },
    {
      "cell_type": "code",
      "source": [
        "X_train, X_test, y_train, y_test = train_test_split(SPX_7['text'],\n",
        "                                                    SPX_7['SPX_close-7'],\n",
        "                                                    test_size=0.3,\n",
        "                                                    random_state=42\n",
        "                                                    )\n",
        "\n",
        "model_Musk_7.fit(x=X_train, \n",
        "                y=y_train,\n",
        "                validation_data=(X_test,y_test),\n",
        "                epochs=600,\n",
        "                callbacks=callbacks)"
      ],
      "metadata": {
        "colab": {
          "base_uri": "https://localhost:8080/"
        },
        "id": "pghW45jarjjp",
        "outputId": "721cfa82-c880-4ec1-d629-376e85465f0c"
      },
      "execution_count": 16,
      "outputs": [
        {
          "output_type": "stream",
          "name": "stdout",
          "text": [
            "Epoch 1/600\n",
            "256/256 [==============================] - 2s 5ms/step - loss: 22.7345 - mean_absolute_error: 691.7103 - val_loss: 21.9040 - val_mean_absolute_error: 683.4793\n",
            "Epoch 2/600\n",
            "256/256 [==============================] - 1s 5ms/step - loss: 21.1611 - mean_absolute_error: 676.5778 - val_loss: 21.4784 - val_mean_absolute_error: 685.0487\n",
            "Epoch 3/600\n",
            "256/256 [==============================] - 1s 5ms/step - loss: 20.8697 - mean_absolute_error: 672.3633 - val_loss: 21.3027 - val_mean_absolute_error: 686.2726\n",
            "Epoch 4/600\n",
            "256/256 [==============================] - 1s 5ms/step - loss: 20.6426 - mean_absolute_error: 669.6207 - val_loss: 21.2291 - val_mean_absolute_error: 672.2375\n",
            "Epoch 5/600\n",
            "256/256 [==============================] - 1s 5ms/step - loss: 20.4743 - mean_absolute_error: 664.5760 - val_loss: 21.0322 - val_mean_absolute_error: 680.3410\n",
            "Epoch 6/600\n",
            "256/256 [==============================] - 1s 5ms/step - loss: 20.3331 - mean_absolute_error: 659.9232 - val_loss: 20.9378 - val_mean_absolute_error: 671.7391\n",
            "Epoch 7/600\n",
            "256/256 [==============================] - 1s 5ms/step - loss: 20.1947 - mean_absolute_error: 654.4625 - val_loss: 20.8963 - val_mean_absolute_error: 676.3571\n",
            "Epoch 8/600\n",
            "256/256 [==============================] - 1s 5ms/step - loss: 20.0474 - mean_absolute_error: 650.6613 - val_loss: 20.8316 - val_mean_absolute_error: 672.0665\n",
            "Epoch 9/600\n",
            "256/256 [==============================] - 1s 4ms/step - loss: 19.9393 - mean_absolute_error: 647.9219 - val_loss: 20.8368 - val_mean_absolute_error: 659.9182\n",
            "Epoch 10/600\n",
            "256/256 [==============================] - 1s 4ms/step - loss: 19.8687 - mean_absolute_error: 645.0193 - val_loss: 20.8018 - val_mean_absolute_error: 673.2383\n",
            "Epoch 11/600\n",
            "256/256 [==============================] - 1s 5ms/step - loss: 19.7664 - mean_absolute_error: 643.3264 - val_loss: 20.8089 - val_mean_absolute_error: 677.0466\n",
            "Epoch 12/600\n",
            "256/256 [==============================] - 1s 4ms/step - loss: 19.7281 - mean_absolute_error: 642.5723 - val_loss: 20.7628 - val_mean_absolute_error: 670.5975\n",
            "Epoch 13/600\n",
            "256/256 [==============================] - 1s 4ms/step - loss: 19.6605 - mean_absolute_error: 640.3980 - val_loss: 20.7347 - val_mean_absolute_error: 664.6680\n",
            "Epoch 14/600\n",
            "256/256 [==============================] - 1s 4ms/step - loss: 19.5745 - mean_absolute_error: 638.5733 - val_loss: 20.7432 - val_mean_absolute_error: 674.3110\n",
            "Epoch 15/600\n",
            "256/256 [==============================] - 1s 5ms/step - loss: 19.5257 - mean_absolute_error: 636.7089 - val_loss: 20.7237 - val_mean_absolute_error: 662.1049\n",
            "Epoch 16/600\n",
            "256/256 [==============================] - 1s 5ms/step - loss: 19.4691 - mean_absolute_error: 635.3875 - val_loss: 20.6829 - val_mean_absolute_error: 669.9261\n",
            "Epoch 17/600\n",
            "256/256 [==============================] - 1s 4ms/step - loss: 19.4064 - mean_absolute_error: 633.7684 - val_loss: 20.6870 - val_mean_absolute_error: 668.1407\n",
            "Epoch 18/600\n",
            "256/256 [==============================] - 1s 4ms/step - loss: 19.3273 - mean_absolute_error: 631.6102 - val_loss: 20.7044 - val_mean_absolute_error: 656.0381\n",
            "Epoch 19/600\n",
            "256/256 [==============================] - 1s 5ms/step - loss: 19.2619 - mean_absolute_error: 628.4685 - val_loss: 20.7100 - val_mean_absolute_error: 669.6875\n",
            "Epoch 20/600\n",
            "256/256 [==============================] - 1s 4ms/step - loss: 19.1911 - mean_absolute_error: 627.7979 - val_loss: 20.6821 - val_mean_absolute_error: 664.1671\n",
            "Epoch 21/600\n",
            "256/256 [==============================] - 1s 5ms/step - loss: 19.1046 - mean_absolute_error: 624.5158 - val_loss: 20.6442 - val_mean_absolute_error: 661.3848\n",
            "Epoch 22/600\n",
            "256/256 [==============================] - 1s 4ms/step - loss: 19.0286 - mean_absolute_error: 623.3666 - val_loss: 20.6628 - val_mean_absolute_error: 666.4038\n",
            "Epoch 23/600\n",
            "256/256 [==============================] - 1s 4ms/step - loss: 18.9412 - mean_absolute_error: 620.4822 - val_loss: 20.6956 - val_mean_absolute_error: 668.0640\n",
            "Epoch 24/600\n",
            "256/256 [==============================] - 1s 4ms/step - loss: 18.8455 - mean_absolute_error: 618.4142 - val_loss: 20.6653 - val_mean_absolute_error: 659.2284\n",
            "Epoch 25/600\n",
            "256/256 [==============================] - 1s 4ms/step - loss: 18.7194 - mean_absolute_error: 615.0450 - val_loss: 20.8806 - val_mean_absolute_error: 686.8806\n",
            "Epoch 26/600\n",
            "256/256 [==============================] - 1s 4ms/step - loss: 18.6592 - mean_absolute_error: 612.5598 - val_loss: 20.8073 - val_mean_absolute_error: 654.4762\n",
            "Epoch 27/600\n",
            "256/256 [==============================] - 1s 5ms/step - loss: 18.5621 - mean_absolute_error: 609.8018 - val_loss: 20.7276 - val_mean_absolute_error: 669.6243\n",
            "Epoch 28/600\n",
            "256/256 [==============================] - 1s 5ms/step - loss: 18.4421 - mean_absolute_error: 607.0992 - val_loss: 20.7979 - val_mean_absolute_error: 655.0822\n",
            "Epoch 29/600\n",
            "256/256 [==============================] - 1s 5ms/step - loss: 18.3075 - mean_absolute_error: 602.8315 - val_loss: 20.7819 - val_mean_absolute_error: 666.9606\n",
            "Epoch 30/600\n",
            "256/256 [==============================] - 1s 4ms/step - loss: 18.2618 - mean_absolute_error: 601.0564 - val_loss: 20.8638 - val_mean_absolute_error: 656.1140\n",
            "Epoch 31/600\n",
            "256/256 [==============================] - 1s 4ms/step - loss: 18.0800 - mean_absolute_error: 596.2403 - val_loss: 20.8409 - val_mean_absolute_error: 661.4045\n"
          ]
        },
        {
          "output_type": "execute_result",
          "data": {
            "text/plain": [
              "<keras.callbacks.History at 0x7fbbd140b7d0>"
            ]
          },
          "metadata": {},
          "execution_count": 16
        }
      ]
    },
    {
      "cell_type": "code",
      "source": [
        "X_train, X_test, y_train, y_test = train_test_split(SPX_15['text'],\n",
        "                                                    SPX_15['SPX_close-15'],\n",
        "                                                    test_size=0.3,\n",
        "                                                    random_state=42\n",
        "                                                    )\n",
        "\n",
        "model_Musk_15.fit(x=X_train, \n",
        "                y=y_train,\n",
        "                validation_data=(X_test,y_test),\n",
        "                epochs=600,\n",
        "                callbacks=callbacks)"
      ],
      "metadata": {
        "colab": {
          "base_uri": "https://localhost:8080/"
        },
        "id": "W0nPj3FS7AHX",
        "outputId": "075ebca5-b19a-4a4f-e096-f35ddde655d3"
      },
      "execution_count": 17,
      "outputs": [
        {
          "output_type": "stream",
          "name": "stdout",
          "text": [
            "Epoch 1/600\n",
            "256/256 [==============================] - 2s 5ms/step - loss: 22.7076 - mean_absolute_error: 688.1108 - val_loss: 21.8475 - val_mean_absolute_error: 680.8259\n",
            "Epoch 2/600\n",
            "256/256 [==============================] - 1s 4ms/step - loss: 21.3002 - mean_absolute_error: 676.4907 - val_loss: 21.4354 - val_mean_absolute_error: 683.9461\n",
            "Epoch 3/600\n",
            "256/256 [==============================] - 1s 4ms/step - loss: 20.9171 - mean_absolute_error: 673.3067 - val_loss: 21.3043 - val_mean_absolute_error: 672.1385\n",
            "Epoch 4/600\n",
            "256/256 [==============================] - 1s 5ms/step - loss: 20.7026 - mean_absolute_error: 667.7114 - val_loss: 21.0950 - val_mean_absolute_error: 681.3715\n",
            "Epoch 5/600\n",
            "256/256 [==============================] - 1s 4ms/step - loss: 20.4932 - mean_absolute_error: 661.6239 - val_loss: 20.9448 - val_mean_absolute_error: 670.5849\n",
            "Epoch 6/600\n",
            "256/256 [==============================] - 1s 4ms/step - loss: 20.3147 - mean_absolute_error: 657.2300 - val_loss: 20.8808 - val_mean_absolute_error: 668.5029\n",
            "Epoch 7/600\n",
            "256/256 [==============================] - 1s 5ms/step - loss: 20.1690 - mean_absolute_error: 652.6244 - val_loss: 20.8204 - val_mean_absolute_error: 664.7290\n",
            "Epoch 8/600\n",
            "256/256 [==============================] - 1s 4ms/step - loss: 20.0223 - mean_absolute_error: 646.2868 - val_loss: 20.7539 - val_mean_absolute_error: 667.7608\n",
            "Epoch 9/600\n",
            "256/256 [==============================] - 1s 4ms/step - loss: 19.8825 - mean_absolute_error: 641.8625 - val_loss: 20.7465 - val_mean_absolute_error: 669.3694\n",
            "Epoch 10/600\n",
            "256/256 [==============================] - 1s 4ms/step - loss: 19.7688 - mean_absolute_error: 639.7542 - val_loss: 20.7453 - val_mean_absolute_error: 671.6318\n",
            "Epoch 11/600\n",
            "256/256 [==============================] - 1s 4ms/step - loss: 19.7033 - mean_absolute_error: 638.7534 - val_loss: 20.7282 - val_mean_absolute_error: 653.9697\n",
            "Epoch 12/600\n",
            "256/256 [==============================] - 1s 4ms/step - loss: 19.6170 - mean_absolute_error: 634.8753 - val_loss: 20.6849 - val_mean_absolute_error: 658.0734\n",
            "Epoch 13/600\n",
            "256/256 [==============================] - 1s 5ms/step - loss: 19.5361 - mean_absolute_error: 633.3538 - val_loss: 20.6771 - val_mean_absolute_error: 656.5259\n",
            "Epoch 14/600\n",
            "256/256 [==============================] - 1s 5ms/step - loss: 19.4661 - mean_absolute_error: 630.8636 - val_loss: 20.6512 - val_mean_absolute_error: 657.9684\n",
            "Epoch 15/600\n",
            "256/256 [==============================] - 1s 5ms/step - loss: 19.3625 - mean_absolute_error: 628.8994 - val_loss: 20.6460 - val_mean_absolute_error: 660.6511\n",
            "Epoch 16/600\n",
            "256/256 [==============================] - 1s 4ms/step - loss: 19.3034 - mean_absolute_error: 627.4733 - val_loss: 20.7275 - val_mean_absolute_error: 661.8093\n",
            "Epoch 17/600\n",
            "256/256 [==============================] - 1s 4ms/step - loss: 19.1902 - mean_absolute_error: 624.1888 - val_loss: 20.6737 - val_mean_absolute_error: 655.4221\n",
            "Epoch 18/600\n",
            "256/256 [==============================] - 1s 5ms/step - loss: 19.1083 - mean_absolute_error: 621.7005 - val_loss: 20.6829 - val_mean_absolute_error: 652.1671\n",
            "Epoch 19/600\n",
            "256/256 [==============================] - 1s 5ms/step - loss: 19.0570 - mean_absolute_error: 620.2618 - val_loss: 20.6601 - val_mean_absolute_error: 657.5885\n",
            "Epoch 20/600\n",
            "256/256 [==============================] - 1s 4ms/step - loss: 18.9232 - mean_absolute_error: 616.8583 - val_loss: 20.8706 - val_mean_absolute_error: 649.1262\n",
            "Epoch 21/600\n",
            "256/256 [==============================] - 1s 4ms/step - loss: 18.8583 - mean_absolute_error: 614.4058 - val_loss: 20.6478 - val_mean_absolute_error: 658.8134\n",
            "Epoch 22/600\n",
            "256/256 [==============================] - 1s 5ms/step - loss: 18.7316 - mean_absolute_error: 611.8471 - val_loss: 20.6838 - val_mean_absolute_error: 663.0909\n",
            "Epoch 23/600\n",
            "256/256 [==============================] - 1s 5ms/step - loss: 18.6454 - mean_absolute_error: 608.4578 - val_loss: 20.6968 - val_mean_absolute_error: 658.7126\n",
            "Epoch 24/600\n",
            "256/256 [==============================] - 1s 5ms/step - loss: 18.5414 - mean_absolute_error: 605.8531 - val_loss: 20.6699 - val_mean_absolute_error: 655.8475\n",
            "Epoch 25/600\n",
            "256/256 [==============================] - 1s 5ms/step - loss: 18.4266 - mean_absolute_error: 603.7601 - val_loss: 20.7457 - val_mean_absolute_error: 654.4713\n"
          ]
        },
        {
          "output_type": "execute_result",
          "data": {
            "text/plain": [
              "<keras.callbacks.History at 0x7fbbd1ac2790>"
            ]
          },
          "metadata": {},
          "execution_count": 17
        }
      ]
    },
    {
      "cell_type": "code",
      "source": [
        "min(model_Musk_1.history.history['val_loss'])"
      ],
      "metadata": {
        "colab": {
          "base_uri": "https://localhost:8080/"
        },
        "id": "4NIWoG2jHU0V",
        "outputId": "ac1b02e4-b582-483d-e52a-e8e1cdcdd49c"
      },
      "execution_count": 18,
      "outputs": [
        {
          "output_type": "execute_result",
          "data": {
            "text/plain": [
              "20.598237991333008"
            ]
          },
          "metadata": {},
          "execution_count": 18
        }
      ]
    },
    {
      "cell_type": "code",
      "source": [
        "min(model_Musk_7.history.history['val_loss'])"
      ],
      "metadata": {
        "colab": {
          "base_uri": "https://localhost:8080/"
        },
        "id": "NbZGeA8fJnmn",
        "outputId": "eba40824-35d8-413e-f38d-01a101010c1e"
      },
      "execution_count": 19,
      "outputs": [
        {
          "output_type": "execute_result",
          "data": {
            "text/plain": [
              "20.64415740966797"
            ]
          },
          "metadata": {},
          "execution_count": 19
        }
      ]
    },
    {
      "cell_type": "code",
      "source": [
        "min(model_Musk_15.history.history['val_loss'])"
      ],
      "metadata": {
        "colab": {
          "base_uri": "https://localhost:8080/"
        },
        "id": "6Vfg6K3jK_JN",
        "outputId": "6e2f9f5c-53d5-4efe-b922-7bae3ad65436"
      },
      "execution_count": 20,
      "outputs": [
        {
          "output_type": "execute_result",
          "data": {
            "text/plain": [
              "20.645986557006836"
            ]
          },
          "metadata": {},
          "execution_count": 20
        }
      ]
    },
    {
      "cell_type": "code",
      "source": [
        ""
      ],
      "metadata": {
        "id": "84A89zXeTezv"
      },
      "execution_count": null,
      "outputs": []
    }
  ]
}